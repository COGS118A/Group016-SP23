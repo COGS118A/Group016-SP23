{
 "cells": [
  {
   "cell_type": "markdown",
   "metadata": {},
   "source": [
    "# COGS 118A- Project Proposal"
   ]
  },
  {
   "cell_type": "markdown",
   "metadata": {},
   "source": [
    "# Names\n",
    "\n",
    "- Yutong Guo\n",
    "- Yuxuan Che\n",
    "- Ethan Hu\n",
    "- Qilun Liu\n",
    "- Zhihan Li\n"
   ]
  },
  {
   "cell_type": "markdown",
   "metadata": {},
   "source": [
    "# Abstract \n",
    "The hypothesis of this study is that by utilizing a dataset consisting of 21 diabetes health indicator variables, including quantitative measurements such as BMI, high blood pressure, and high cholesterol, accurate predictions can be made to effectively distinguish between diabetic and non-diabetic individuals. The goal is to analyze the dataset, which represents survey responses from non/pre/diabetes individuals, measured through 21 variables encompassing health and demographic information. The aim is to leverage machine learning algorithms to classify individuals as diabetic or non-diabetic based on the given variables. Logistic regression, SVM, and random forest algorithms will be employed to train and evaluate the models using the dataset, while accuracy and recall rates will be measured and compared to determine the best performing algorithm for diabetic classification."
   ]
  },
  {
   "cell_type": "markdown",
   "metadata": {},
   "source": [
    "# Background\n",
    "\n",
    "Before we fully made the consensus on choosing diabete health indicators as variables on examining diabetic and non-diabetic groups as our aimed research topic, we discussed among the topics about student life. As UCSD international students who have positive attitudes toward learning and living, we should be aware of how to emphasize physical and mental health without compromising learning status. According to prior outside research, by a proper estimation in 2017, about 451 million adults who suffered from diabetes worldwide, and by the current trend of living style, such numbers were expected to increase to 693 million by 2045<a name=\"Gastaldelli\"></a>[<sup>[1]</sup>](#Gastaldelli). Among the existing file-contained cases, it was estimated that 49.7% of the patients who lived with diabetes are undiagnosed until it’s too late. As a lifelong problem, there are two types of diabetes that we are currently worrying about: type I and type II diabetes. For type I, unfortunately, there exists no direct prevention method that can observe it or avoid it from getting worse; while for type II diabete, some symptom data measurement such as BMI, high blood pressure, and high cholesterol can be used as proper detection factors. From what we predicted before doing the classification, the reason that such a huge portion of patients who got obvious traits of having type II diabetic but still refuse to get proper examination is because they are afraid of getting worse after the screening test is complete on both physical and mental ways; however, as what The USPSTF found as inadequate direct evidence, screening for type 2 diabetes or prediabetes leads to improvements in mortality or cardiovascular morbidity<a name=\"Force\"></a></a>[<sup>[2]</sup>](#Force). Therefore, it seems not a bad idea to take screen tests oftenly. Even if we are unable to get formal screen tests for detection, the easiest way to determine whether an individual is within diabetic or nondiabetic group is on blood sugar level as it is controlled by insulin which is a hormone produced by pancreas<a name=\"PharmEasy\"></a>[<sup>[3]</sup>](#PharmEasy). \n",
    "\n",
    "\n",
    "After going through these informations regarding diabetic symptoms, we would like to be clear that the reason for us to demonstrate interests on diabete health indicators is that we are not only curious on what contributes to the formation of type II diabetic and want to distinguish between diabetic and non diabetic groups, but also trying to examine proper methods to prevent people from being diagnosed as diabetic diseases before it’s too late since long-term complications of diabetes develop gradually. The longer you have diabetes — and the less controlled your blood sugar — the higher the risk of complications. Thus, our goal is to help people to better recognize themselves as diabetic or non-diabetic groups. \n"
   ]
  },
  {
   "cell_type": "markdown",
   "metadata": {},
   "source": [
    "# Problem Statement\n",
    "\n",
    "Whether or not diabetic patients can be accurately distinguished from non-diabetic people, depending on variables including personal and external factors. And what combinations of the algorithm and variables are working most efficiently. This is a binary classification problem, and the accuracy will be accessed by various evaluation matrices. This study is quantifiable, measurable, and replicable since we are using binary output from different machine learning models to quantify whether an individual is high-risk to diabetes, the performance of different models can be measured using precision-recall rate and f1 score, and all data can be found in open source for others to replicate the study."
   ]
  },
  {
   "cell_type": "markdown",
   "metadata": {},
   "source": [
    "# Data\n",
    "\n",
    "Link to data: https://www.kaggle.com/datasets/alexteboul/diabetes-health-indicators-dataset?select=diabetes_012_health_indicators_BRFSS2015.csv.\n",
    "\n",
    "This dataset contains 21 diabetes health indicator variables with 254k valid observation data. Each observation is a survey response from a non/pre/diabetes person responding to the questions which is later cleaned and labeled into the 21 different variables, the variables include health and demographic information like: BMI, stoke, smoker, fruit, veggies, general, mental, physical health, age, sex, etc. Some of the critical variables are high blood pressure (binary), high cholesterol (binary), age (ratio), consume vegetables 1 or more times per day (binary), income rated from 1-10 interval (interval), etc. These are some of the more important variables that might have a larger influence on whether a person gets diabetes. One special handling needed is that there are 3 types of result data: non/pre/diabetes, since we are hoping to build a model using binary classification, we will delete all the individuals who are prediabetes, since there are only ~4k individuals of such type, it will make no significant influence on the final model building. Otherwise, all the data is cleaned, and all categorical data are already transferred to numerical ones using one-hot-encoding. "
   ]
  },
  {
   "cell_type": "markdown",
   "metadata": {},
   "source": [
    "# Proposed Solution\n",
    "\n",
    "There should be a clear distinction between diabetic patients and non-diabetic people, and it should have a high precision rate, recall rate, and f1 score for generally all classification machine learning methods, since there are large enough variables and observations for learning.\n",
    "Logistic regression should work well, but the linearity between variables and result indices are not checked, which may lead to inaccurate results. The precision rate ,recall rate and f1 score will be examined and compared among different models. \n",
    "This solution is applicable to all American people. Because this dataset only contains data on a national base. This dataset is large enough to be representative to all populations contained in the dataset. Since all indicators we are using are important health indicators, the solutions should have a true meaning and be applicable. "
   ]
  },
  {
   "cell_type": "markdown",
   "metadata": {},
   "source": [
    "# Evaluation Metrics\n",
    "\n",
    "Since our project aims to build a machine learning model that can correctly identify individuals that are considered high-risk in getting diabetes, we want to have a high accuracy, but also since we do not want to miss anyone who has diabetes, one of the most important metrics for our project is the Recall rate. Recall = TP / (TP + FN), where we want to identify as much positive as possible among the population. Thus, we want to compare our model’s Recall rate with the benchmark model to analyze if there is a significant improvement in the model. Although Recall score is extremely important as an evaluation metric, we also want to put some emphasis on precision as well. Precision = TP / (TP + FP), it measures the proportion of correctly predicted positive instances (diabetics) out of all instances predicted as positive.  \n",
    "Since both metrics are important, we can combine them to produce a f1 score test as our final evaluation metrics. F1 Score = 2 * (Precision * Recall) / (Precision + Recall), it combines precision and recall into a single metric, providing a balanced measure of a model's performance. Thus, this can be one of the more ideal metrics for our project.\n",
    "To test the metrics, since there is a large enough data, we plan to use the regular Train/Validate/Test split for both our model and the benchmark model and compare the f1 score for both models. We hope to see a higher f1 score from our model compared to the benchmark model. "
   ]
  },
  {
   "cell_type": "markdown",
   "metadata": {},
   "source": [
    "# Ethics & Privacy"
   ]
  },
  {
   "cell_type": "markdown",
   "metadata": {},
   "source": [
    "<b>Tracing Data Source</b> <br>\n",
    "The data we will be using to construct the model is a cleaned dataset retrieved from Kaggle. To ensure reliability and address any potential ethical issue that might involve in this dataset, we traced its origin back to the Centers for Disease Control and Prevention (CDC). According to the acknowledgment section provided on Kaggle, the CDC released the original version of this dataset in 2015. \n",
    "\n",
    "Based on the description on CDC's official site, the data within this dataset is collected through the Behavioral Risk Factor Surveillance System (BRFSS) questionnaire. BRFSS is a “health-related telephone survey that collects state data about U.S. residents regarding their health-related risk behaviors, chronic health conditions, and use of preventive services”, according to CDC.\n",
    "\n",
    "<b>Potential Ethical Concern I: Unrepresentative Sampling Data</b> <br>\n",
    "One of the ethical concerns related to health data-based machine learning algorithms is the use of unrepresentative samples. According to CDC, the survey data is mainly collected through telephone calls. We would concern data collected in this way might fail to represent people who are unable to answer phone calls due to various limitations. This limitation could arise from factors such as working hours, lacking access to telephones or cell phones, or other circumstances. \n",
    "\n",
    "This exclusion may lead to a biased representation of certain demographics of the population. If the training data used for developing the algorithms is not a sufficient representation of the diverse population, it can lead to biased and inaccurate predictions. A recommendation suggested by such a biased algorithm could disproportionately affect certain demographic groups and cause healthcare disparities. \n",
    "\n",
    "In the aim to prevent and address unintended consequences arising from unrepresentative samples, it is important to be transparent about our choice of data, the criteria for excluding or including certain data points, and the methods we used to construct the algorithm. We believe by revealing sufficient details to the public, we could help the public to make informed decisions when using our algorithm and interpreting the results it generates. Furthermore, by disclosing our modeling process and methodology, we invite feedback and criticism from the public and other stakeholders. In such a collaborative environment, we believe that potential issues could be identified more quickly, which allows improvements to be made more promptly. \n",
    "\n",
    "\n",
    "<b>Potential Ethical Concern II: Model Fairness Across Groups</b> <br>\n",
    "Another common concern for a machine learning algorithm is whether the model acts fairly across different groups. This issue may also lie in our model construction. Since the data we have chosen is from a single source, any misrepresentation within the data sampling could expose our model to the risk of overfitting. Therefore, before publishing the algorithm, it is important to test whether our model’s predictions are unbiased for any demographic or population group. \n",
    "In addition to conducting thorough testing, we believe providing the public with our error metrics is necessary. In such a report, we should include metrics such as accuracy, false positive rate, and other relevant measure. By sharing this information, we aim to enhance public understanding of the characteristics and limitations inherent in our model.\n"
   ]
  },
  {
   "cell_type": "markdown",
   "metadata": {},
   "source": [
    "# Team Expectations "
   ]
  },
  {
   "cell_type": "markdown",
   "metadata": {},
   "source": [
    "- The main communication channel for our team will be WeChat and Zoom. Each team member is expected to actively contribute to the group discussion and promptly confirm the availability for any meeting. \n",
    "- Respecting each other is important. Each team member is expected to be inclusive and value any thought or concern others may have. If conflicting ideas emerge, be sure the discussion focuses on the issue rather than the person. \n",
    "- Once a meeting schedule is set, each member of the team is expected to show up on time. However, we do understand that emergent situations may occur. In case of an unexpected not-showing-up, we expect each team member to inform each other at their earliest convenience.\n",
    "- Each member is expected to contribute evenly to this project. If any member has concerns about fairness, open discussion is strongly encouraged. Our best hope is that any concern could be resolved within the team. However, if the issue couldn't be resolved on a team level, we would consult staff members as soon as possible.\n",
    "- Merging different members' work into a single file on GitHub could be stressful. To prevent possible merging conflict, our team agrees to draft out the framework on Google Docs before pushing. Once all members have completed their part(s) on Google Docs, we would consider letting one member of the team push the content in Google Docs onto Github. This role may be designated to a single member throughout the quarter or a shifting role that each member takes turns doing.\n",
    "- Although, for convenience, each member may have specialized responsibilities on different parts of the project, combining different sections of the project is a role that everybody shares. Each member is expected to take the responsibility of integrating their part(s) of the work into the group project, as well as reviewing and tuning the project before the final submission.\n",
    "- Upon receiving a grade for a checkpoint or the project, some parts of the work may need further improvement. Although points might be deducted from some parts of the project but not others, everybody is responsible for the grade received since everyone has agreed before the final push. We encourage the member who contributed more to the parts where point(s) has been deducted to bring up ideas for revision (if given a chance). However, we agree that it is everyone’s responsibility to refine the work if we wish to improve the grade.\n"
   ]
  },
  {
   "cell_type": "markdown",
   "metadata": {},
   "source": [
    "# Project Timeline Proposal"
   ]
  },
  {
   "cell_type": "markdown",
   "metadata": {},
   "source": [
    "| Meeting Date  | Meeting Time| Completed Before Meeting  | Discuss at Meeting |\n",
    "|---|---|---|---|\n",
    "| 5/16  |  6:30 PM |  Brainstorm topics/questions, create shared google doc| Introduction, Discuss work separation, finding data, finding possible hypotheses based on data, sharing thoughts, making a schedule for following meetings. | \n",
    "| 5/17  |  6:30 PM |  Read everyone’s writing | Double check everyone’s work and make sure no one has any problem. | \n",
    "| 5/23  | 6:30 PM  | Check grades, and read comments  | Discuss if there’s any improvement need for the proposal.   |\n",
    "| 5/30 | 6:30 PM  | Data cleaning | Review/Edit wrangling/EDA; Discuss Analysis Plan   |\n",
    "| 6/5 | 6:30 PM  | Complete analysis; Draft results/conclusion/discussion | Discuss/edit full project  |\n"
   ]
  },
  {
   "cell_type": "markdown",
   "metadata": {},
   "source": [
    "# Footnotes\n",
    "\n",
    " <a name=\"Gastaldelli\"></a>1.[^](#lorenz): A;, Gastaldelli. “Role of Beta-Cell Dysfunction, Ectopic Fat Accumulation and Insulin Resistance in the Pathogenesis of Type 2 Diabetes Mellitus.” Diabetes Research and Clinical Practice, pubmed.ncbi.nlm.nih.gov/21864753/. Accessed 17 May 2023.<br>\n",
    "  <a name=\"Force\"></a>2.[^](#Force): Force, US Preventive Services Task. “USPSTF RECOMMENDATION: Screening for Prediabetes and Type 2 Diabetes.” JAMA, 24 Aug. 2021, jamanetwork.com/journals/jama/fullarticle/2783414.<br>\n",
    " \n",
    "<a name=\"PharmEasy\"></a>3.[^](#PharmEasy): “What Is the Chief Difference between People with Diabetes and People without Diabetes? What Is the Chief Difference between People with Diabetes and People without Diabetes?” PharmEasy Blog, 18 Aug. 2021, pharmeasy.in/blog/what-is-the-chief-difference-between-people-with-diabetes-and-people-without-diabetes/#:~:text=The%20chief%20difference%20is%20the,this%20is%20called%20insulin%20resistance. \n"
   ]
  },
  {
   "cell_type": "code",
   "execution_count": null,
   "metadata": {},
   "outputs": [],
   "source": []
  }
 ],
 "metadata": {
  "kernelspec": {
   "display_name": "Python 3 (ipykernel)",
   "language": "python",
   "name": "python3"
  },
  "language_info": {
   "codemirror_mode": {
    "name": "ipython",
    "version": 3
   },
   "file_extension": ".py",
   "mimetype": "text/x-python",
   "name": "python",
   "nbconvert_exporter": "python",
   "pygments_lexer": "ipython3",
   "version": "3.9.5"
  }
 },
 "nbformat": 4,
 "nbformat_minor": 2
}
