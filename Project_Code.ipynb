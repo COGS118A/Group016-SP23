{
  "cells": [
    {
      "cell_type": "code",
      "source": [
        "# setup\n",
        "import os \n",
        "import numpy as np\n",
        "import seaborn as sns\n",
        "import pandas as pd\n",
        "import matplotlib.pyplot as plt\n",
        "\n",
        "from sklearn.compose import ColumnTransformer\n",
        "from sklearn.compose import make_column_selector as selector\n",
        "from sklearn.preprocessing import OneHotEncoder, StandardScaler\n",
        "from sklearn.pipeline import Pipeline\n",
        "from sklearn.linear_model import LogisticRegression\n",
        "from sklearn.model_selection import train_test_split, GridSearchCV"
      ],
      "metadata": {
        "id": "Ebr_pmLrqy6g"
      },
      "execution_count": 1,
      "outputs": []
    },
    {
      "cell_type": "code",
      "source": [
        "# load balanced diebetes binary dataset\n",
        "url = \"https://raw.githubusercontent.com/COGS118A/Group016-SP23/main/diabetes50.csv\"\n",
        "df = pd.read_csv(url)\n",
        "diabetes=(df-df.min())/(df.max()-df.min())\n",
        "diabetes\n",
        "\n"
      ],
      "metadata": {
        "id": "AJsBmKGUnfbL",
        "colab": {
          "base_uri": "https://localhost:8080/",
          "height": 488
        },
        "outputId": "11832a26-2e72-4cfd-ed7d-5be998c9f89e"
      },
      "execution_count": 2,
      "outputs": [
        {
          "output_type": "execute_result",
          "data": {
            "text/plain": [
              "       Diabetes_binary  HighBP  HighChol  CholCheck       BMI  Smoker  Stroke  \\\n",
              "0                  0.0     1.0       0.0        1.0  0.162791     0.0     0.0   \n",
              "1                  0.0     1.0       1.0        1.0  0.162791     1.0     1.0   \n",
              "2                  0.0     0.0       0.0        1.0  0.162791     0.0     0.0   \n",
              "3                  0.0     1.0       1.0        1.0  0.186047     1.0     0.0   \n",
              "4                  0.0     0.0       0.0        1.0  0.197674     1.0     0.0   \n",
              "...                ...     ...       ...        ...       ...     ...     ...   \n",
              "70687              1.0     0.0       1.0        1.0  0.290698     0.0     0.0   \n",
              "70688              1.0     0.0       1.0        1.0  0.197674     1.0     0.0   \n",
              "70689              1.0     1.0       1.0        1.0  0.151163     0.0     0.0   \n",
              "70690              1.0     1.0       1.0        1.0  0.069767     0.0     0.0   \n",
              "70691              1.0     1.0       1.0        1.0  0.151163     0.0     0.0   \n",
              "\n",
              "       HeartDiseaseorAttack  PhysActivity  Fruits  ...  AnyHealthcare  \\\n",
              "0                       0.0           1.0     0.0  ...            1.0   \n",
              "1                       0.0           0.0     1.0  ...            1.0   \n",
              "2                       0.0           1.0     1.0  ...            1.0   \n",
              "3                       0.0           1.0     1.0  ...            1.0   \n",
              "4                       0.0           1.0     1.0  ...            1.0   \n",
              "...                     ...           ...     ...  ...            ...   \n",
              "70687                   0.0           0.0     0.0  ...            1.0   \n",
              "70688                   1.0           0.0     1.0  ...            1.0   \n",
              "70689                   1.0           0.0     1.0  ...            1.0   \n",
              "70690                   0.0           0.0     0.0  ...            1.0   \n",
              "70691                   1.0           1.0     1.0  ...            1.0   \n",
              "\n",
              "       NoDocbcCost  GenHlth  MentHlth  PhysHlth  DiffWalk  Sex       Age  \\\n",
              "0              0.0     0.50  0.166667  1.000000       0.0  1.0  0.250000   \n",
              "1              0.0     0.50  0.000000  0.000000       0.0  1.0  0.916667   \n",
              "2              0.0     0.00  0.000000  0.333333       0.0  1.0  1.000000   \n",
              "3              0.0     0.50  0.000000  0.100000       0.0  1.0  0.833333   \n",
              "4              0.0     0.25  0.000000  0.000000       0.0  0.0  0.583333   \n",
              "...            ...      ...       ...       ...       ...  ...       ...   \n",
              "70687          0.0     0.75  0.000000  0.000000       0.0  0.0  0.416667   \n",
              "70688          0.0     0.25  0.000000  0.000000       1.0  1.0  0.750000   \n",
              "70689          0.0     1.00  0.500000  0.000000       1.0  0.0  1.000000   \n",
              "70690          0.0     0.75  0.000000  0.000000       1.0  0.0  0.833333   \n",
              "70691          0.0     0.25  0.000000  0.000000       0.0  0.0  0.666667   \n",
              "\n",
              "       Education    Income  \n",
              "0            1.0  1.000000  \n",
              "1            1.0  1.000000  \n",
              "2            1.0  1.000000  \n",
              "3            1.0  1.000000  \n",
              "4            0.8  1.000000  \n",
              "...          ...       ...  \n",
              "70687        0.6  0.000000  \n",
              "70688        0.4  0.714286  \n",
              "70689        1.0  0.428571  \n",
              "70690        0.2  0.428571  \n",
              "70691        1.0  0.142857  \n",
              "\n",
              "[70692 rows x 22 columns]"
            ],
            "text/html": [
              "\n",
              "  <div id=\"df-8fbe76f5-660d-4063-b5e5-56ee7fd4fb89\">\n",
              "    <div class=\"colab-df-container\">\n",
              "      <div>\n",
              "<style scoped>\n",
              "    .dataframe tbody tr th:only-of-type {\n",
              "        vertical-align: middle;\n",
              "    }\n",
              "\n",
              "    .dataframe tbody tr th {\n",
              "        vertical-align: top;\n",
              "    }\n",
              "\n",
              "    .dataframe thead th {\n",
              "        text-align: right;\n",
              "    }\n",
              "</style>\n",
              "<table border=\"1\" class=\"dataframe\">\n",
              "  <thead>\n",
              "    <tr style=\"text-align: right;\">\n",
              "      <th></th>\n",
              "      <th>Diabetes_binary</th>\n",
              "      <th>HighBP</th>\n",
              "      <th>HighChol</th>\n",
              "      <th>CholCheck</th>\n",
              "      <th>BMI</th>\n",
              "      <th>Smoker</th>\n",
              "      <th>Stroke</th>\n",
              "      <th>HeartDiseaseorAttack</th>\n",
              "      <th>PhysActivity</th>\n",
              "      <th>Fruits</th>\n",
              "      <th>...</th>\n",
              "      <th>AnyHealthcare</th>\n",
              "      <th>NoDocbcCost</th>\n",
              "      <th>GenHlth</th>\n",
              "      <th>MentHlth</th>\n",
              "      <th>PhysHlth</th>\n",
              "      <th>DiffWalk</th>\n",
              "      <th>Sex</th>\n",
              "      <th>Age</th>\n",
              "      <th>Education</th>\n",
              "      <th>Income</th>\n",
              "    </tr>\n",
              "  </thead>\n",
              "  <tbody>\n",
              "    <tr>\n",
              "      <th>0</th>\n",
              "      <td>0.0</td>\n",
              "      <td>1.0</td>\n",
              "      <td>0.0</td>\n",
              "      <td>1.0</td>\n",
              "      <td>0.162791</td>\n",
              "      <td>0.0</td>\n",
              "      <td>0.0</td>\n",
              "      <td>0.0</td>\n",
              "      <td>1.0</td>\n",
              "      <td>0.0</td>\n",
              "      <td>...</td>\n",
              "      <td>1.0</td>\n",
              "      <td>0.0</td>\n",
              "      <td>0.50</td>\n",
              "      <td>0.166667</td>\n",
              "      <td>1.000000</td>\n",
              "      <td>0.0</td>\n",
              "      <td>1.0</td>\n",
              "      <td>0.250000</td>\n",
              "      <td>1.0</td>\n",
              "      <td>1.000000</td>\n",
              "    </tr>\n",
              "    <tr>\n",
              "      <th>1</th>\n",
              "      <td>0.0</td>\n",
              "      <td>1.0</td>\n",
              "      <td>1.0</td>\n",
              "      <td>1.0</td>\n",
              "      <td>0.162791</td>\n",
              "      <td>1.0</td>\n",
              "      <td>1.0</td>\n",
              "      <td>0.0</td>\n",
              "      <td>0.0</td>\n",
              "      <td>1.0</td>\n",
              "      <td>...</td>\n",
              "      <td>1.0</td>\n",
              "      <td>0.0</td>\n",
              "      <td>0.50</td>\n",
              "      <td>0.000000</td>\n",
              "      <td>0.000000</td>\n",
              "      <td>0.0</td>\n",
              "      <td>1.0</td>\n",
              "      <td>0.916667</td>\n",
              "      <td>1.0</td>\n",
              "      <td>1.000000</td>\n",
              "    </tr>\n",
              "    <tr>\n",
              "      <th>2</th>\n",
              "      <td>0.0</td>\n",
              "      <td>0.0</td>\n",
              "      <td>0.0</td>\n",
              "      <td>1.0</td>\n",
              "      <td>0.162791</td>\n",
              "      <td>0.0</td>\n",
              "      <td>0.0</td>\n",
              "      <td>0.0</td>\n",
              "      <td>1.0</td>\n",
              "      <td>1.0</td>\n",
              "      <td>...</td>\n",
              "      <td>1.0</td>\n",
              "      <td>0.0</td>\n",
              "      <td>0.00</td>\n",
              "      <td>0.000000</td>\n",
              "      <td>0.333333</td>\n",
              "      <td>0.0</td>\n",
              "      <td>1.0</td>\n",
              "      <td>1.000000</td>\n",
              "      <td>1.0</td>\n",
              "      <td>1.000000</td>\n",
              "    </tr>\n",
              "    <tr>\n",
              "      <th>3</th>\n",
              "      <td>0.0</td>\n",
              "      <td>1.0</td>\n",
              "      <td>1.0</td>\n",
              "      <td>1.0</td>\n",
              "      <td>0.186047</td>\n",
              "      <td>1.0</td>\n",
              "      <td>0.0</td>\n",
              "      <td>0.0</td>\n",
              "      <td>1.0</td>\n",
              "      <td>1.0</td>\n",
              "      <td>...</td>\n",
              "      <td>1.0</td>\n",
              "      <td>0.0</td>\n",
              "      <td>0.50</td>\n",
              "      <td>0.000000</td>\n",
              "      <td>0.100000</td>\n",
              "      <td>0.0</td>\n",
              "      <td>1.0</td>\n",
              "      <td>0.833333</td>\n",
              "      <td>1.0</td>\n",
              "      <td>1.000000</td>\n",
              "    </tr>\n",
              "    <tr>\n",
              "      <th>4</th>\n",
              "      <td>0.0</td>\n",
              "      <td>0.0</td>\n",
              "      <td>0.0</td>\n",
              "      <td>1.0</td>\n",
              "      <td>0.197674</td>\n",
              "      <td>1.0</td>\n",
              "      <td>0.0</td>\n",
              "      <td>0.0</td>\n",
              "      <td>1.0</td>\n",
              "      <td>1.0</td>\n",
              "      <td>...</td>\n",
              "      <td>1.0</td>\n",
              "      <td>0.0</td>\n",
              "      <td>0.25</td>\n",
              "      <td>0.000000</td>\n",
              "      <td>0.000000</td>\n",
              "      <td>0.0</td>\n",
              "      <td>0.0</td>\n",
              "      <td>0.583333</td>\n",
              "      <td>0.8</td>\n",
              "      <td>1.000000</td>\n",
              "    </tr>\n",
              "    <tr>\n",
              "      <th>...</th>\n",
              "      <td>...</td>\n",
              "      <td>...</td>\n",
              "      <td>...</td>\n",
              "      <td>...</td>\n",
              "      <td>...</td>\n",
              "      <td>...</td>\n",
              "      <td>...</td>\n",
              "      <td>...</td>\n",
              "      <td>...</td>\n",
              "      <td>...</td>\n",
              "      <td>...</td>\n",
              "      <td>...</td>\n",
              "      <td>...</td>\n",
              "      <td>...</td>\n",
              "      <td>...</td>\n",
              "      <td>...</td>\n",
              "      <td>...</td>\n",
              "      <td>...</td>\n",
              "      <td>...</td>\n",
              "      <td>...</td>\n",
              "      <td>...</td>\n",
              "    </tr>\n",
              "    <tr>\n",
              "      <th>70687</th>\n",
              "      <td>1.0</td>\n",
              "      <td>0.0</td>\n",
              "      <td>1.0</td>\n",
              "      <td>1.0</td>\n",
              "      <td>0.290698</td>\n",
              "      <td>0.0</td>\n",
              "      <td>0.0</td>\n",
              "      <td>0.0</td>\n",
              "      <td>0.0</td>\n",
              "      <td>0.0</td>\n",
              "      <td>...</td>\n",
              "      <td>1.0</td>\n",
              "      <td>0.0</td>\n",
              "      <td>0.75</td>\n",
              "      <td>0.000000</td>\n",
              "      <td>0.000000</td>\n",
              "      <td>0.0</td>\n",
              "      <td>0.0</td>\n",
              "      <td>0.416667</td>\n",
              "      <td>0.6</td>\n",
              "      <td>0.000000</td>\n",
              "    </tr>\n",
              "    <tr>\n",
              "      <th>70688</th>\n",
              "      <td>1.0</td>\n",
              "      <td>0.0</td>\n",
              "      <td>1.0</td>\n",
              "      <td>1.0</td>\n",
              "      <td>0.197674</td>\n",
              "      <td>1.0</td>\n",
              "      <td>0.0</td>\n",
              "      <td>1.0</td>\n",
              "      <td>0.0</td>\n",
              "      <td>1.0</td>\n",
              "      <td>...</td>\n",
              "      <td>1.0</td>\n",
              "      <td>0.0</td>\n",
              "      <td>0.25</td>\n",
              "      <td>0.000000</td>\n",
              "      <td>0.000000</td>\n",
              "      <td>1.0</td>\n",
              "      <td>1.0</td>\n",
              "      <td>0.750000</td>\n",
              "      <td>0.4</td>\n",
              "      <td>0.714286</td>\n",
              "    </tr>\n",
              "    <tr>\n",
              "      <th>70689</th>\n",
              "      <td>1.0</td>\n",
              "      <td>1.0</td>\n",
              "      <td>1.0</td>\n",
              "      <td>1.0</td>\n",
              "      <td>0.151163</td>\n",
              "      <td>0.0</td>\n",
              "      <td>0.0</td>\n",
              "      <td>1.0</td>\n",
              "      <td>0.0</td>\n",
              "      <td>1.0</td>\n",
              "      <td>...</td>\n",
              "      <td>1.0</td>\n",
              "      <td>0.0</td>\n",
              "      <td>1.00</td>\n",
              "      <td>0.500000</td>\n",
              "      <td>0.000000</td>\n",
              "      <td>1.0</td>\n",
              "      <td>0.0</td>\n",
              "      <td>1.000000</td>\n",
              "      <td>1.0</td>\n",
              "      <td>0.428571</td>\n",
              "    </tr>\n",
              "    <tr>\n",
              "      <th>70690</th>\n",
              "      <td>1.0</td>\n",
              "      <td>1.0</td>\n",
              "      <td>1.0</td>\n",
              "      <td>1.0</td>\n",
              "      <td>0.069767</td>\n",
              "      <td>0.0</td>\n",
              "      <td>0.0</td>\n",
              "      <td>0.0</td>\n",
              "      <td>0.0</td>\n",
              "      <td>0.0</td>\n",
              "      <td>...</td>\n",
              "      <td>1.0</td>\n",
              "      <td>0.0</td>\n",
              "      <td>0.75</td>\n",
              "      <td>0.000000</td>\n",
              "      <td>0.000000</td>\n",
              "      <td>1.0</td>\n",
              "      <td>0.0</td>\n",
              "      <td>0.833333</td>\n",
              "      <td>0.2</td>\n",
              "      <td>0.428571</td>\n",
              "    </tr>\n",
              "    <tr>\n",
              "      <th>70691</th>\n",
              "      <td>1.0</td>\n",
              "      <td>1.0</td>\n",
              "      <td>1.0</td>\n",
              "      <td>1.0</td>\n",
              "      <td>0.151163</td>\n",
              "      <td>0.0</td>\n",
              "      <td>0.0</td>\n",
              "      <td>1.0</td>\n",
              "      <td>1.0</td>\n",
              "      <td>1.0</td>\n",
              "      <td>...</td>\n",
              "      <td>1.0</td>\n",
              "      <td>0.0</td>\n",
              "      <td>0.25</td>\n",
              "      <td>0.000000</td>\n",
              "      <td>0.000000</td>\n",
              "      <td>0.0</td>\n",
              "      <td>0.0</td>\n",
              "      <td>0.666667</td>\n",
              "      <td>1.0</td>\n",
              "      <td>0.142857</td>\n",
              "    </tr>\n",
              "  </tbody>\n",
              "</table>\n",
              "<p>70692 rows × 22 columns</p>\n",
              "</div>\n",
              "      <button class=\"colab-df-convert\" onclick=\"convertToInteractive('df-8fbe76f5-660d-4063-b5e5-56ee7fd4fb89')\"\n",
              "              title=\"Convert this dataframe to an interactive table.\"\n",
              "              style=\"display:none;\">\n",
              "        \n",
              "  <svg xmlns=\"http://www.w3.org/2000/svg\" height=\"24px\"viewBox=\"0 0 24 24\"\n",
              "       width=\"24px\">\n",
              "    <path d=\"M0 0h24v24H0V0z\" fill=\"none\"/>\n",
              "    <path d=\"M18.56 5.44l.94 2.06.94-2.06 2.06-.94-2.06-.94-.94-2.06-.94 2.06-2.06.94zm-11 1L8.5 8.5l.94-2.06 2.06-.94-2.06-.94L8.5 2.5l-.94 2.06-2.06.94zm10 10l.94 2.06.94-2.06 2.06-.94-2.06-.94-.94-2.06-.94 2.06-2.06.94z\"/><path d=\"M17.41 7.96l-1.37-1.37c-.4-.4-.92-.59-1.43-.59-.52 0-1.04.2-1.43.59L10.3 9.45l-7.72 7.72c-.78.78-.78 2.05 0 2.83L4 21.41c.39.39.9.59 1.41.59.51 0 1.02-.2 1.41-.59l7.78-7.78 2.81-2.81c.8-.78.8-2.07 0-2.86zM5.41 20L4 18.59l7.72-7.72 1.47 1.35L5.41 20z\"/>\n",
              "  </svg>\n",
              "      </button>\n",
              "      \n",
              "  <style>\n",
              "    .colab-df-container {\n",
              "      display:flex;\n",
              "      flex-wrap:wrap;\n",
              "      gap: 12px;\n",
              "    }\n",
              "\n",
              "    .colab-df-convert {\n",
              "      background-color: #E8F0FE;\n",
              "      border: none;\n",
              "      border-radius: 50%;\n",
              "      cursor: pointer;\n",
              "      display: none;\n",
              "      fill: #1967D2;\n",
              "      height: 32px;\n",
              "      padding: 0 0 0 0;\n",
              "      width: 32px;\n",
              "    }\n",
              "\n",
              "    .colab-df-convert:hover {\n",
              "      background-color: #E2EBFA;\n",
              "      box-shadow: 0px 1px 2px rgba(60, 64, 67, 0.3), 0px 1px 3px 1px rgba(60, 64, 67, 0.15);\n",
              "      fill: #174EA6;\n",
              "    }\n",
              "\n",
              "    [theme=dark] .colab-df-convert {\n",
              "      background-color: #3B4455;\n",
              "      fill: #D2E3FC;\n",
              "    }\n",
              "\n",
              "    [theme=dark] .colab-df-convert:hover {\n",
              "      background-color: #434B5C;\n",
              "      box-shadow: 0px 1px 3px 1px rgba(0, 0, 0, 0.15);\n",
              "      filter: drop-shadow(0px 1px 2px rgba(0, 0, 0, 0.3));\n",
              "      fill: #FFFFFF;\n",
              "    }\n",
              "  </style>\n",
              "\n",
              "      <script>\n",
              "        const buttonEl =\n",
              "          document.querySelector('#df-8fbe76f5-660d-4063-b5e5-56ee7fd4fb89 button.colab-df-convert');\n",
              "        buttonEl.style.display =\n",
              "          google.colab.kernel.accessAllowed ? 'block' : 'none';\n",
              "\n",
              "        async function convertToInteractive(key) {\n",
              "          const element = document.querySelector('#df-8fbe76f5-660d-4063-b5e5-56ee7fd4fb89');\n",
              "          const dataTable =\n",
              "            await google.colab.kernel.invokeFunction('convertToInteractive',\n",
              "                                                     [key], {});\n",
              "          if (!dataTable) return;\n",
              "\n",
              "          const docLinkHtml = 'Like what you see? Visit the ' +\n",
              "            '<a target=\"_blank\" href=https://colab.research.google.com/notebooks/data_table.ipynb>data table notebook</a>'\n",
              "            + ' to learn more about interactive tables.';\n",
              "          element.innerHTML = '';\n",
              "          dataTable['output_type'] = 'display_data';\n",
              "          await google.colab.output.renderOutput(dataTable, element);\n",
              "          const docLink = document.createElement('div');\n",
              "          docLink.innerHTML = docLinkHtml;\n",
              "          element.appendChild(docLink);\n",
              "        }\n",
              "      </script>\n",
              "    </div>\n",
              "  </div>\n",
              "  "
            ]
          },
          "metadata": {},
          "execution_count": 2
        }
      ]
    },
    {
      "cell_type": "code",
      "source": [
        "# # train test split\n",
        "X_train, X_test, y_train, y_test = train_test_split(diabetes.loc[:, diabetes.columns != 'Diabetes_binary'], diabetes[\"Diabetes_binary\"], test_size=0.33)"
      ],
      "metadata": {
        "id": "Wj6ZcS-zm8xr"
      },
      "execution_count": 3,
      "outputs": []
    },
    {
      "cell_type": "code",
      "source": [
        "from sklearn.ensemble import RandomForestClassifier, GradientBoostingClassifier\n",
        "from sklearn.svm import SVC\n",
        "from sklearn.linear_model import LogisticRegression\n",
        "from sklearn.naive_bayes import GaussianNB\n",
        "from sklearn.metrics import accuracy_score, precision_score, recall_score, f1_score\n",
        "from sklearn.model_selection import GridSearchCV, train_test_split\n",
        "from sklearn.preprocessing import StandardScaler"
      ],
      "metadata": {
        "id": "dESnptt0kuTS"
      },
      "execution_count": 4,
      "outputs": []
    },
    {
      "cell_type": "code",
      "source": [
        "# Random Forest\n",
        "rf_clf = RandomForestClassifier(random_state=42)\n",
        "rf_param_grid = {'n_estimators': [100, 200, 500], 'max_depth': [None, 5, 10]}\n",
        "rf_grid_search = GridSearchCV(rf_clf, rf_param_grid, cv=5, verbose=2)\n",
        "rf_grid_search.fit(X_train, y_train)\n",
        "print(\"Best parameters: \", rf_grid_search.best_params_)"
      ],
      "metadata": {
        "colab": {
          "base_uri": "https://localhost:8080/"
        },
        "id": "57oWgo6RmHBS",
        "outputId": "b5991f39-10ad-48ab-f721-753fe7f61563"
      },
      "execution_count": 5,
      "outputs": [
        {
          "output_type": "stream",
          "name": "stdout",
          "text": [
            "Fitting 5 folds for each of 9 candidates, totalling 45 fits\n",
            "[CV] END ...................max_depth=None, n_estimators=100; total time=   9.8s\n",
            "[CV] END ...................max_depth=None, n_estimators=100; total time=  12.4s\n",
            "[CV] END ...................max_depth=None, n_estimators=100; total time=   9.0s\n",
            "[CV] END ...................max_depth=None, n_estimators=100; total time=   5.0s\n",
            "[CV] END ...................max_depth=None, n_estimators=100; total time=   5.6s\n",
            "[CV] END ...................max_depth=None, n_estimators=200; total time=  10.7s\n",
            "[CV] END ...................max_depth=None, n_estimators=200; total time=   9.9s\n",
            "[CV] END ...................max_depth=None, n_estimators=200; total time=  10.7s\n",
            "[CV] END ...................max_depth=None, n_estimators=200; total time=  10.4s\n",
            "[CV] END ...................max_depth=None, n_estimators=200; total time=  10.2s\n",
            "[CV] END ...................max_depth=None, n_estimators=500; total time=  26.1s\n",
            "[CV] END ...................max_depth=None, n_estimators=500; total time=  27.9s\n",
            "[CV] END ...................max_depth=None, n_estimators=500; total time=  27.2s\n",
            "[CV] END ...................max_depth=None, n_estimators=500; total time=  26.3s\n",
            "[CV] END ...................max_depth=None, n_estimators=500; total time=  25.5s\n",
            "[CV] END ......................max_depth=5, n_estimators=100; total time=   2.2s\n",
            "[CV] END ......................max_depth=5, n_estimators=100; total time=   1.8s\n",
            "[CV] END ......................max_depth=5, n_estimators=100; total time=   1.7s\n",
            "[CV] END ......................max_depth=5, n_estimators=100; total time=   1.6s\n",
            "[CV] END ......................max_depth=5, n_estimators=100; total time=   1.6s\n",
            "[CV] END ......................max_depth=5, n_estimators=200; total time=   3.2s\n",
            "[CV] END ......................max_depth=5, n_estimators=200; total time=   4.2s\n",
            "[CV] END ......................max_depth=5, n_estimators=200; total time=   3.3s\n",
            "[CV] END ......................max_depth=5, n_estimators=200; total time=   3.1s\n",
            "[CV] END ......................max_depth=5, n_estimators=200; total time=   3.5s\n",
            "[CV] END ......................max_depth=5, n_estimators=500; total time=   8.7s\n",
            "[CV] END ......................max_depth=5, n_estimators=500; total time=   9.0s\n",
            "[CV] END ......................max_depth=5, n_estimators=500; total time=   8.1s\n",
            "[CV] END ......................max_depth=5, n_estimators=500; total time=   8.5s\n",
            "[CV] END ......................max_depth=5, n_estimators=500; total time=   9.3s\n",
            "[CV] END .....................max_depth=10, n_estimators=100; total time=   2.6s\n",
            "[CV] END .....................max_depth=10, n_estimators=100; total time=   2.6s\n",
            "[CV] END .....................max_depth=10, n_estimators=100; total time=   3.0s\n",
            "[CV] END .....................max_depth=10, n_estimators=100; total time=   2.9s\n",
            "[CV] END .....................max_depth=10, n_estimators=100; total time=   2.8s\n",
            "[CV] END .....................max_depth=10, n_estimators=200; total time=   7.7s\n",
            "[CV] END .....................max_depth=10, n_estimators=200; total time=  11.3s\n",
            "[CV] END .....................max_depth=10, n_estimators=200; total time=   5.9s\n",
            "[CV] END .....................max_depth=10, n_estimators=200; total time=   5.3s\n",
            "[CV] END .....................max_depth=10, n_estimators=200; total time=   6.1s\n",
            "[CV] END .....................max_depth=10, n_estimators=500; total time=  13.5s\n",
            "[CV] END .....................max_depth=10, n_estimators=500; total time=  13.8s\n",
            "[CV] END .....................max_depth=10, n_estimators=500; total time=  13.6s\n",
            "[CV] END .....................max_depth=10, n_estimators=500; total time=  13.6s\n",
            "[CV] END .....................max_depth=10, n_estimators=500; total time=  13.8s\n",
            "Best parameters:  {'max_depth': 10, 'n_estimators': 500}\n"
          ]
        }
      ]
    },
    {
      "cell_type": "code",
      "source": [
        "# Gradient Boosting\n",
        "gb_clf = GradientBoostingClassifier(random_state=42)\n",
        "gb_param_grid = {'n_estimators': [100, 200], 'learning_rate': [0.1, 0.05, 0.01]}\n",
        "gb_grid_search = GridSearchCV(gb_clf, gb_param_grid, cv=5, verbose = 2)\n",
        "gb_grid_search.fit(X_train, y_train)\n",
        "print(\"Best parameters: \", gb_grid_search.best_params_)"
      ],
      "metadata": {
        "colab": {
          "base_uri": "https://localhost:8080/"
        },
        "id": "x2HpTaLdqiyz",
        "outputId": "08911241-91af-40bc-a3a7-4fe2abdc56bf"
      },
      "execution_count": 6,
      "outputs": [
        {
          "output_type": "stream",
          "name": "stdout",
          "text": [
            "Fitting 5 folds for each of 6 candidates, totalling 30 fits\n",
            "[CV] END ................learning_rate=0.1, n_estimators=100; total time=   4.3s\n",
            "[CV] END ................learning_rate=0.1, n_estimators=100; total time=   4.3s\n",
            "[CV] END ................learning_rate=0.1, n_estimators=100; total time=   5.3s\n",
            "[CV] END ................learning_rate=0.1, n_estimators=100; total time=   4.2s\n",
            "[CV] END ................learning_rate=0.1, n_estimators=100; total time=   4.3s\n",
            "[CV] END ................learning_rate=0.1, n_estimators=200; total time=   9.4s\n",
            "[CV] END ................learning_rate=0.1, n_estimators=200; total time=   9.3s\n",
            "[CV] END ................learning_rate=0.1, n_estimators=200; total time=   9.5s\n",
            "[CV] END ................learning_rate=0.1, n_estimators=200; total time=   8.6s\n",
            "[CV] END ................learning_rate=0.1, n_estimators=200; total time=   9.3s\n",
            "[CV] END ...............learning_rate=0.05, n_estimators=100; total time=   4.2s\n",
            "[CV] END ...............learning_rate=0.05, n_estimators=100; total time=   5.3s\n",
            "[CV] END ...............learning_rate=0.05, n_estimators=100; total time=   4.5s\n",
            "[CV] END ...............learning_rate=0.05, n_estimators=100; total time=   4.6s\n",
            "[CV] END ...............learning_rate=0.05, n_estimators=100; total time=   5.0s\n",
            "[CV] END ...............learning_rate=0.05, n_estimators=200; total time=   9.3s\n",
            "[CV] END ...............learning_rate=0.05, n_estimators=200; total time=   8.7s\n",
            "[CV] END ...............learning_rate=0.05, n_estimators=200; total time=   9.5s\n",
            "[CV] END ...............learning_rate=0.05, n_estimators=200; total time=   9.4s\n",
            "[CV] END ...............learning_rate=0.05, n_estimators=200; total time=   9.1s\n",
            "[CV] END ...............learning_rate=0.01, n_estimators=100; total time=   4.8s\n",
            "[CV] END ...............learning_rate=0.01, n_estimators=100; total time=   4.3s\n",
            "[CV] END ...............learning_rate=0.01, n_estimators=100; total time=   5.2s\n",
            "[CV] END ...............learning_rate=0.01, n_estimators=100; total time=   4.4s\n",
            "[CV] END ...............learning_rate=0.01, n_estimators=100; total time=   4.3s\n",
            "[CV] END ...............learning_rate=0.01, n_estimators=200; total time=   9.5s\n",
            "[CV] END ...............learning_rate=0.01, n_estimators=200; total time=   9.5s\n",
            "[CV] END ...............learning_rate=0.01, n_estimators=200; total time=   9.2s\n",
            "[CV] END ...............learning_rate=0.01, n_estimators=200; total time=   9.3s\n",
            "[CV] END ...............learning_rate=0.01, n_estimators=200; total time=   9.6s\n",
            "Best parameters:  {'learning_rate': 0.1, 'n_estimators': 200}\n"
          ]
        }
      ]
    },
    {
      "cell_type": "code",
      "source": [
        "# apply L2 norm on feature selection\n",
        "from sklearn.svm import LinearSVC\n",
        "from sklearn.feature_selection import SelectFromModel\n",
        "lsvc = LinearSVC(C=0.01, penalty=\"l2\", dual=False, max_iter=10000).fit(X_train, y_train)\n",
        "model = SelectFromModel(lsvc, prefit=True)\n",
        "X_new = model.transform(X_train)\n",
        "X_train.shape, X_new.shape\n",
        "\n",
        "# assign feature names to selected feature set\n",
        "names = X_train.columns.values.tolist()\n",
        "feature_idx = model.get_support()\n",
        "filtered_list = [i for (i, v) in zip(names, feature_idx) if v]\n",
        "X_newTrain = pd.DataFrame(data = X_new, columns = filtered_list).reset_index(drop=True)\n",
        "X_newTest = X_test[filtered_list]\n",
        "\n",
        "# print selected train set\n",
        "X_new"
      ],
      "metadata": {
        "colab": {
          "base_uri": "https://localhost:8080/"
        },
        "id": "W-gxQGtdCjMK",
        "outputId": "063f37aa-e836-4efa-e20e-5f1434f760e2"
      },
      "execution_count": 7,
      "outputs": [
        {
          "output_type": "stream",
          "name": "stderr",
          "text": [
            "/usr/local/lib/python3.10/dist-packages/sklearn/base.py:432: UserWarning: X has feature names, but SelectFromModel was fitted without feature names\n",
            "  warnings.warn(\n"
          ]
        },
        {
          "output_type": "execute_result",
          "data": {
            "text/plain": [
              "array([[1.        , 1.        , 0.3255814 , 0.        , 0.75      ,\n",
              "        0.66666667],\n",
              "       [0.        , 1.        , 0.1627907 , 0.        , 0.25      ,\n",
              "        0.66666667],\n",
              "       [0.        , 1.        , 0.1627907 , 0.        , 0.25      ,\n",
              "        0.5       ],\n",
              "       ...,\n",
              "       [1.        , 1.        , 0.11627907, 0.        , 0.25      ,\n",
              "        1.        ],\n",
              "       [0.        , 0.        , 0.12790698, 0.        , 0.        ,\n",
              "        0.25      ],\n",
              "       [0.        , 1.        , 0.18604651, 0.        , 0.5       ,\n",
              "        0.83333333]])"
            ]
          },
          "metadata": {},
          "execution_count": 7
        }
      ]
    },
    {
      "cell_type": "code",
      "source": [
        "# Support Vector Machines\n",
        "svm_clf = SVC(random_state=42)\n",
        "svm_param_grid = {'C': [1, 10], 'kernel': ['linear', 'rbf']}\n",
        "svm_grid_search = GridSearchCV(svm_clf, svm_param_grid, cv=5, verbose=2)\n",
        "svm_grid_search.fit(X_new, y_train)\n",
        "print(\"Best parameters: \", svm_grid_search.best_params_)"
      ],
      "metadata": {
        "colab": {
          "base_uri": "https://localhost:8080/"
        },
        "id": "P31stA7NvvsF",
        "outputId": "4889bec6-bbb2-4bcd-8f5a-753343f2a8e3"
      },
      "execution_count": 8,
      "outputs": [
        {
          "output_type": "stream",
          "name": "stdout",
          "text": [
            "Fitting 5 folds for each of 4 candidates, totalling 20 fits\n",
            "[CV] END .................................C=1, kernel=linear; total time=  46.7s\n",
            "[CV] END .................................C=1, kernel=linear; total time=  45.0s\n",
            "[CV] END .................................C=1, kernel=linear; total time=  47.3s\n",
            "[CV] END .................................C=1, kernel=linear; total time=  45.2s\n",
            "[CV] END .................................C=1, kernel=linear; total time=  46.8s\n",
            "[CV] END ....................................C=1, kernel=rbf; total time= 1.1min\n",
            "[CV] END ....................................C=1, kernel=rbf; total time= 1.1min\n",
            "[CV] END ....................................C=1, kernel=rbf; total time= 1.1min\n",
            "[CV] END ....................................C=1, kernel=rbf; total time= 1.1min\n",
            "[CV] END ....................................C=1, kernel=rbf; total time= 1.1min\n",
            "[CV] END ................................C=10, kernel=linear; total time=  52.2s\n",
            "[CV] END ................................C=10, kernel=linear; total time=  52.7s\n",
            "[CV] END ................................C=10, kernel=linear; total time=  51.8s\n",
            "[CV] END ................................C=10, kernel=linear; total time=  51.8s\n",
            "[CV] END ................................C=10, kernel=linear; total time=  51.6s\n",
            "[CV] END ...................................C=10, kernel=rbf; total time= 1.5min\n",
            "[CV] END ...................................C=10, kernel=rbf; total time= 1.5min\n",
            "[CV] END ...................................C=10, kernel=rbf; total time= 1.4min\n",
            "[CV] END ...................................C=10, kernel=rbf; total time= 1.5min\n",
            "[CV] END ...................................C=10, kernel=rbf; total time= 1.5min\n",
            "Best parameters:  {'C': 10, 'kernel': 'rbf'}\n"
          ]
        }
      ]
    },
    {
      "cell_type": "code",
      "source": [
        "# Logistic Regression\n",
        "lr_clf = LogisticRegression(random_state=42)\n",
        "lr_param_grid = {'C': [0.1, 1, 10]}\n",
        "lr_grid_search = GridSearchCV(lr_clf, lr_param_grid, cv=5, verbose=2)\n",
        "lr_grid_search.fit(X_train, y_train)\n",
        "print(\"Best parameters: \", lr_grid_search.best_params_)"
      ],
      "metadata": {
        "colab": {
          "base_uri": "https://localhost:8080/"
        },
        "id": "WHbnYzmJyJdg",
        "outputId": "8a2a4d7d-8fca-4322-fde2-747b5a64b90c"
      },
      "execution_count": 9,
      "outputs": [
        {
          "output_type": "stream",
          "name": "stdout",
          "text": [
            "Fitting 5 folds for each of 3 candidates, totalling 15 fits\n",
            "[CV] END ..............................................C=0.1; total time=   0.3s\n",
            "[CV] END ..............................................C=0.1; total time=   0.3s\n",
            "[CV] END ..............................................C=0.1; total time=   0.3s\n",
            "[CV] END ..............................................C=0.1; total time=   0.4s\n",
            "[CV] END ..............................................C=0.1; total time=   0.3s\n",
            "[CV] END ................................................C=1; total time=   0.4s\n",
            "[CV] END ................................................C=1; total time=   0.4s\n",
            "[CV] END ................................................C=1; total time=   0.4s\n",
            "[CV] END ................................................C=1; total time=   0.4s\n",
            "[CV] END ................................................C=1; total time=   0.4s\n",
            "[CV] END ...............................................C=10; total time=   0.5s\n",
            "[CV] END ...............................................C=10; total time=   0.5s\n",
            "[CV] END ...............................................C=10; total time=   0.8s\n",
            "[CV] END ...............................................C=10; total time=   0.7s\n",
            "[CV] END ...............................................C=10; total time=   0.4s\n",
            "Best parameters:  {'C': 1}\n"
          ]
        }
      ]
    },
    {
      "cell_type": "code",
      "source": [
        "# Naive Bayes\n",
        "nb_clf = GaussianNB()\n",
        "nb_clf.fit(X_train, y_train)"
      ],
      "metadata": {
        "colab": {
          "base_uri": "https://localhost:8080/",
          "height": 75
        },
        "id": "-meB2X8hyVWX",
        "outputId": "4dc2c4c9-081d-4d57-8caf-16874bae386c"
      },
      "execution_count": 10,
      "outputs": [
        {
          "output_type": "execute_result",
          "data": {
            "text/plain": [
              "GaussianNB()"
            ],
            "text/html": [
              "<style>#sk-container-id-1 {color: black;background-color: white;}#sk-container-id-1 pre{padding: 0;}#sk-container-id-1 div.sk-toggleable {background-color: white;}#sk-container-id-1 label.sk-toggleable__label {cursor: pointer;display: block;width: 100%;margin-bottom: 0;padding: 0.3em;box-sizing: border-box;text-align: center;}#sk-container-id-1 label.sk-toggleable__label-arrow:before {content: \"▸\";float: left;margin-right: 0.25em;color: #696969;}#sk-container-id-1 label.sk-toggleable__label-arrow:hover:before {color: black;}#sk-container-id-1 div.sk-estimator:hover label.sk-toggleable__label-arrow:before {color: black;}#sk-container-id-1 div.sk-toggleable__content {max-height: 0;max-width: 0;overflow: hidden;text-align: left;background-color: #f0f8ff;}#sk-container-id-1 div.sk-toggleable__content pre {margin: 0.2em;color: black;border-radius: 0.25em;background-color: #f0f8ff;}#sk-container-id-1 input.sk-toggleable__control:checked~div.sk-toggleable__content {max-height: 200px;max-width: 100%;overflow: auto;}#sk-container-id-1 input.sk-toggleable__control:checked~label.sk-toggleable__label-arrow:before {content: \"▾\";}#sk-container-id-1 div.sk-estimator input.sk-toggleable__control:checked~label.sk-toggleable__label {background-color: #d4ebff;}#sk-container-id-1 div.sk-label input.sk-toggleable__control:checked~label.sk-toggleable__label {background-color: #d4ebff;}#sk-container-id-1 input.sk-hidden--visually {border: 0;clip: rect(1px 1px 1px 1px);clip: rect(1px, 1px, 1px, 1px);height: 1px;margin: -1px;overflow: hidden;padding: 0;position: absolute;width: 1px;}#sk-container-id-1 div.sk-estimator {font-family: monospace;background-color: #f0f8ff;border: 1px dotted black;border-radius: 0.25em;box-sizing: border-box;margin-bottom: 0.5em;}#sk-container-id-1 div.sk-estimator:hover {background-color: #d4ebff;}#sk-container-id-1 div.sk-parallel-item::after {content: \"\";width: 100%;border-bottom: 1px solid gray;flex-grow: 1;}#sk-container-id-1 div.sk-label:hover label.sk-toggleable__label {background-color: #d4ebff;}#sk-container-id-1 div.sk-serial::before {content: \"\";position: absolute;border-left: 1px solid gray;box-sizing: border-box;top: 0;bottom: 0;left: 50%;z-index: 0;}#sk-container-id-1 div.sk-serial {display: flex;flex-direction: column;align-items: center;background-color: white;padding-right: 0.2em;padding-left: 0.2em;position: relative;}#sk-container-id-1 div.sk-item {position: relative;z-index: 1;}#sk-container-id-1 div.sk-parallel {display: flex;align-items: stretch;justify-content: center;background-color: white;position: relative;}#sk-container-id-1 div.sk-item::before, #sk-container-id-1 div.sk-parallel-item::before {content: \"\";position: absolute;border-left: 1px solid gray;box-sizing: border-box;top: 0;bottom: 0;left: 50%;z-index: -1;}#sk-container-id-1 div.sk-parallel-item {display: flex;flex-direction: column;z-index: 1;position: relative;background-color: white;}#sk-container-id-1 div.sk-parallel-item:first-child::after {align-self: flex-end;width: 50%;}#sk-container-id-1 div.sk-parallel-item:last-child::after {align-self: flex-start;width: 50%;}#sk-container-id-1 div.sk-parallel-item:only-child::after {width: 0;}#sk-container-id-1 div.sk-dashed-wrapped {border: 1px dashed gray;margin: 0 0.4em 0.5em 0.4em;box-sizing: border-box;padding-bottom: 0.4em;background-color: white;}#sk-container-id-1 div.sk-label label {font-family: monospace;font-weight: bold;display: inline-block;line-height: 1.2em;}#sk-container-id-1 div.sk-label-container {text-align: center;}#sk-container-id-1 div.sk-container {/* jupyter's `normalize.less` sets `[hidden] { display: none; }` but bootstrap.min.css set `[hidden] { display: none !important; }` so we also need the `!important` here to be able to override the default hidden behavior on the sphinx rendered scikit-learn.org. See: https://github.com/scikit-learn/scikit-learn/issues/21755 */display: inline-block !important;position: relative;}#sk-container-id-1 div.sk-text-repr-fallback {display: none;}</style><div id=\"sk-container-id-1\" class=\"sk-top-container\"><div class=\"sk-text-repr-fallback\"><pre>GaussianNB()</pre><b>In a Jupyter environment, please rerun this cell to show the HTML representation or trust the notebook. <br />On GitHub, the HTML representation is unable to render, please try loading this page with nbviewer.org.</b></div><div class=\"sk-container\" hidden><div class=\"sk-item\"><div class=\"sk-estimator sk-toggleable\"><input class=\"sk-toggleable__control sk-hidden--visually\" id=\"sk-estimator-id-1\" type=\"checkbox\" checked><label for=\"sk-estimator-id-1\" class=\"sk-toggleable__label sk-toggleable__label-arrow\">GaussianNB</label><div class=\"sk-toggleable__content\"><pre>GaussianNB()</pre></div></div></div></div></div>"
            ]
          },
          "metadata": {},
          "execution_count": 10
        }
      ]
    },
    {
      "cell_type": "code",
      "source": [
        "# Evaluate the models\n",
        "rf_pred = rf_grid_search.predict(X_test)\n",
        "gb_pred = gb_grid_search.predict(X_test)\n",
        "svm_pred = svm_grid_search.predict(X_newTest)\n",
        "lr_pred = lr_grid_search.predict(X_test)\n",
        "nb_pred = nb_clf.predict(X_test)\n",
        "\n",
        "rf_accuracy = accuracy_score(y_test, rf_pred)\n",
        "gb_accuracy = accuracy_score(y_test, gb_pred)\n",
        "svm_accuracy = accuracy_score(y_test, svm_pred)\n",
        "lr_accuracy = accuracy_score(y_test, lr_pred)\n",
        "nb_accuracy = accuracy_score(y_test, nb_pred)\n",
        "\n",
        "rf_precision = precision_score(y_test, rf_pred)\n",
        "gb_precision = precision_score(y_test, gb_pred)\n",
        "svm_precision = precision_score(y_test, svm_pred)\n",
        "lr_precision = precision_score(y_test, lr_pred)\n",
        "nb_precision = precision_score(y_test, nb_pred)\n",
        "\n",
        "rf_recall = recall_score(y_test, rf_pred)\n",
        "gb_recall = recall_score(y_test, gb_pred)\n",
        "svm_recall = recall_score(y_test, svm_pred)\n",
        "lr_recall = recall_score(y_test, lr_pred)\n",
        "nb_recall = recall_score(y_test, nb_pred)\n",
        "\n",
        "rf_f1 = f1_score(y_test, rf_pred)\n",
        "gb_f1 = f1_score(y_test, gb_pred)\n",
        "svm_f1 = f1_score(y_test, svm_pred)\n",
        "lr_f1 = f1_score(y_test, lr_pred)\n",
        "nb_f1 = f1_score(y_test, nb_pred)"
      ],
      "metadata": {
        "id": "Ps-_VlU8yex6",
        "colab": {
          "base_uri": "https://localhost:8080/"
        },
        "outputId": "a1e89997-e2d9-4361-b04f-b7136525cbb0"
      },
      "execution_count": 11,
      "outputs": [
        {
          "output_type": "stream",
          "name": "stderr",
          "text": [
            "/usr/local/lib/python3.10/dist-packages/sklearn/base.py:432: UserWarning: X has feature names, but SVC was fitted without feature names\n",
            "  warnings.warn(\n"
          ]
        }
      ]
    },
    {
      "cell_type": "markdown",
      "source": [
        "# Classification report"
      ],
      "metadata": {
        "id": "ud_C1VeSfL6a"
      }
    },
    {
      "cell_type": "code",
      "source": [
        "# Select the best-performing algorithm\n",
        "algorithm_scores = {'Random Forest': rf_f1, 'Gradient Boosting': gb_f1,\n",
        "                    'Support Vector Machines': svm_f1, 'Logistic Regression': lr_f1, 'Naive Bayes': nb_f1}\n",
        "\n",
        "best_algorithm = max(algorithm_scores, key=algorithm_scores.get)\n",
        "print(\"Best Algorithm:\", best_algorithm)\n",
        "\n",
        "# print the performance metrics of all algorithms\n",
        "algorithm_metrics = {\n",
        "    'Random Forest': (rf_accuracy, rf_precision, rf_recall, rf_f1),\n",
        "    'Gradient Boosting': (gb_accuracy, gb_precision, gb_recall, gb_f1),\n",
        "    'Support Vector Machines': (svm_accuracy, svm_precision, svm_recall, svm_f1),\n",
        "    'Logistic Regression': (lr_accuracy, lr_precision, lr_recall, lr_f1),\n",
        "    'Naive Bayes': (nb_accuracy, nb_precision, nb_recall, nb_f1)\n",
        "}\n",
        "\n",
        "for algorithm, (accuracy, precision, recall, f1) in algorithm_metrics.items():\n",
        "    print(algorithm)\n",
        "    print(\"Accuracy:\", accuracy)\n",
        "    print(\"Precision:\", precision)\n",
        "    print(\"Recall:\", recall)\n",
        "    print(\"F1 Score:\", f1)\n",
        "    print(\"-----------\")"
      ],
      "metadata": {
        "id": "dTo4iCV9eQcf",
        "colab": {
          "base_uri": "https://localhost:8080/"
        },
        "outputId": "ac1b392a-68d2-4fda-b452-5b1a35685df7"
      },
      "execution_count": 12,
      "outputs": [
        {
          "output_type": "stream",
          "name": "stdout",
          "text": [
            "Best Algorithm: Gradient Boosting\n",
            "Random Forest\n",
            "Accuracy: 0.7553259891122637\n",
            "Precision: 0.7316862066252262\n",
            "Recall: 0.8018453048202121\n",
            "F1 Score: 0.7651608656298856\n",
            "-----------\n",
            "Gradient Boosting\n",
            "Accuracy: 0.7578978953234172\n",
            "Precision: 0.7336422904720761\n",
            "Recall: 0.8053807019056652\n",
            "F1 Score: 0.7678395264715554\n",
            "-----------\n",
            "Support Vector Machines\n",
            "Accuracy: 0.7419520768142656\n",
            "Precision: 0.713041485216594\n",
            "Recall: 0.8047770975252221\n",
            "F1 Score: 0.756137081746739\n",
            "-----------\n",
            "Logistic Regression\n",
            "Accuracy: 0.7505250975181105\n",
            "Precision: 0.7383447479164947\n",
            "Recall: 0.771578856600845\n",
            "F1 Score: 0.7545960532973519\n",
            "-----------\n",
            "Naive Bayes\n",
            "Accuracy: 0.7257919327875176\n",
            "Precision: 0.7270345791128188\n",
            "Recall: 0.7179442959386048\n",
            "F1 Score: 0.7224608442882554\n",
            "-----------\n"
          ]
        }
      ]
    },
    {
      "cell_type": "markdown",
      "source": [
        "### Confusion Matrix"
      ],
      "metadata": {
        "id": "9VaHqqS5rTxi"
      }
    },
    {
      "cell_type": "code",
      "source": [
        "from sklearn.metrics import confusion_matrix\n",
        "import seaborn as sns\n",
        "import matplotlib.pyplot as plt\n",
        "rf_cm = confusion_matrix(y_test, rf_pred)\n",
        "gb_cm = confusion_matrix(y_test, gb_pred)\n",
        "svm_cm = confusion_matrix(y_test, svm_pred)\n",
        "lr_cm = confusion_matrix(y_test, lr_pred)\n",
        "nb_cm = confusion_matrix(y_test, nb_pred)\n",
        "\n",
        "# Plot confusion matrices\n",
        "plt.figure(figsize=(15, 12))\n",
        "\n",
        "plt.subplot(2, 3, 1)\n",
        "sns.heatmap(gb_cm, annot=True, fmt=\"d\", cmap=\"Reds\")\n",
        "plt.title(\"Gradient Boosting Confusion Matrix\")\n",
        "\n",
        "plt.subplot(2, 3, 2)\n",
        "sns.heatmap(rf_cm, annot=True, fmt=\"d\", cmap=\"Blues\")\n",
        "plt.title(\"Random Forest Confusion Matrix\")\n",
        "\n",
        "plt.subplot(2, 3, 3)\n",
        "sns.heatmap(svm_cm, annot=True, fmt=\"d\", cmap=\"Blues\")\n",
        "plt.title(\"SVM Confusion Matrix\")\n",
        "\n",
        "plt.subplot(2, 3, 4)\n",
        "sns.heatmap(lr_cm, annot=True, fmt=\"d\", cmap=\"Blues\")\n",
        "plt.title(\"Logistic Regression Confusion Matrix\")\n",
        "\n",
        "plt.subplot(2, 3, 5)\n",
        "sns.heatmap(nb_cm, annot=True, fmt=\"d\", cmap=\"Blues\")\n",
        "plt.title(\"Naive Bayes Confusion Matrix\")\n",
        "\n",
        "plt.tight_layout()\n",
        "plt.show()"
      ],
      "metadata": {
        "colab": {
          "base_uri": "https://localhost:8080/",
          "height": 1000
        },
        "id": "YTdIYqnDfrF8",
        "outputId": "a5546bf2-12bc-4d40-f6bb-6ba734c7214c"
      },
      "execution_count": 13,
      "outputs": [
        {
          "output_type": "display_data",
          "data": {
            "text/plain": [
              "<Figure size 1500x1200 with 10 Axes>"
            ],
            "image/png": "[encoded data removed]"
          },
          "metadata": {}
        }
      ]
    },
    {
      "cell_type": "markdown",
      "source": [
        "# Feature Importance"
      ],
      "metadata": {
        "id": "rHFL-HNamhve"
      }
    },
    {
      "cell_type": "markdown",
      "source": [
        "We can use the Random Forest model that we created to estimate feature importance."
      ],
      "metadata": {
        "id": "88FdFz1Mmp4z"
      }
    },
    {
      "cell_type": "code",
      "source": [
        "importances = rf_grid_search.best_estimator_.feature_importances_\n",
        "feature_names = X_train.columns\n",
        "\n",
        "importance_indices = np.argsort(importances)[::-1]\n",
        "sorted_importances = importances[importance_indices]\n",
        "sorted_feature_names = feature_names[importance_indices]\n",
        "\n",
        "# Create a graph\n",
        "plt.figure(figsize=(10, 6))\n",
        "plt.bar(range(len(sorted_importances)), sorted_importances)\n",
        "plt.xticks(range(len(sorted_importances)), sorted_feature_names, rotation='vertical')\n",
        "plt.xlabel(\"Features\")\n",
        "plt.ylabel(\"Importance\")\n",
        "plt.title(\"Random Forest Feature Importances (Sorted)\")\n",
        "plt.tight_layout()\n",
        "plt.show()"
      ],
      "metadata": {
        "colab": {
          "base_uri": "https://localhost:8080/",
          "height": 607
        },
        "id": "wkcwsnhpmmag",
        "outputId": "438ba000-7f0e-4fac-e2b3-6a16a1ed62fe"
      },
      "execution_count": 14,
      "outputs": [
        {
          "output_type": "display_data",
          "data": {
            "text/plain": [
              "<Figure size 1000x600 with 1 Axes>"
            ],
            "image/png": "[encoded data removed]"
          },
          "metadata": {}
        }
      ]
    },
    {
      "cell_type": "code",
      "source": [],
      "metadata": {
        "id": "hIaUvXHADE_Q"
      },
      "execution_count": 14,
      "outputs": []
    }
  ],
  "metadata": {
    "kernelspec": {
      "display_name": "Python 3 (ipykernel)",
      "language": "python",
      "name": "python3"
    },
    "language_info": {
      "codemirror_mode": {
        "name": "ipython",
        "version": 3
      },
      "file_extension": ".py",
      "mimetype": "text/x-python",
      "name": "python",
      "nbconvert_exporter": "python",
      "pygments_lexer": "ipython3",
      "version": "3.9.5"
    },
    "colab": {
      "provenance": []
    }
  },
  "nbformat": 4,
  "nbformat_minor": 0
}